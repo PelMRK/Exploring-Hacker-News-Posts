{
 "cells": [
  {
   "cell_type": "markdown",
   "metadata": {
    "collapsed": true
   },
   "source": [
    "# Researching Patterns in Hacker News Posts\n",
    "In this project I will check some patterns of success in writing posts on [Hacker News](https://news.ycombinator.com/) (a site where people from start-ups and techs share their stories and comment other's). Two main questions of exploring:\n",
    "1. Do special words *Ask HN* or *Show HN* in title receive more comments on average?\n",
    "2. Do posts created at a certain time receive more comments on average?\n",
    "\n",
    "The data set consists of 20,000 rows with post information as Id, Title, URL, Number of points, Number of comments, Author, Date of submission"
   ]
  },
  {
   "cell_type": "code",
   "execution_count": 3,
   "metadata": {},
   "outputs": [
    {
     "name": "stdout",
     "output_type": "stream",
     "text": [
      "First rows of our data set: \n",
      " -  ['id', 'title', 'url', 'num_points', 'num_comments', 'author', 'created_at']\n",
      " -  ['12224879', 'Interactive Dynamic Video', 'http://www.interactivedynamicvideo.com/', '386', '52', 'ne0phyte', '8/4/2016 11:52']\n",
      " -  ['10975351', 'How to Use Open Source and Shut the Fuck Up at the Same Time', 'http://hueniverse.com/2016/01/26/how-to-use-open-source-and-shut-the-fuck-up-at-the-same-time/', '39', '10', 'josep2', '1/26/2016 19:30']\n",
      " -  ['11964716', \"Florida DJs May Face Felony for April Fools' Water Joke\", 'http://www.thewire.com/entertainment/2013/04/florida-djs-april-fools-water-joke/63798/', '2', '1', 'vezycash', '6/23/2016 22:20']\n",
      " -  ['11919867', 'Technology ventures: From Idea to Enterprise', 'https://www.amazon.com/Technology-Ventures-Enterprise-Thomas-Byers/dp/0073523429', '3', '1', 'hswarna', '6/17/2016 0:01']\n"
     ]
    }
   ],
   "source": [
    "from csv import reader\n",
    "opened_file = open('hacker_news.csv')\n",
    "read_file = reader(opened_file)\n",
    "hn = list(read_file)\n",
    "\n",
    "print('First rows of our data set: ')\n",
    "for row in hn[:5]:\n",
    "    print(' - ',row)"
   ]
  },
  {
   "cell_type": "markdown",
   "metadata": {},
   "source": [
    "### Removing Headers from a dataset"
   ]
  },
  {
   "cell_type": "code",
   "execution_count": 4,
   "metadata": {},
   "outputs": [
    {
     "name": "stdout",
     "output_type": "stream",
     "text": [
      "['id', 'title', 'url', 'num_points', 'num_comments', 'author', 'created_at'] \n",
      "\n",
      " -  ['12224879', 'Interactive Dynamic Video', 'http://www.interactivedynamicvideo.com/', '386', '52', 'ne0phyte', '8/4/2016 11:52']\n",
      " -  ['10975351', 'How to Use Open Source and Shut the Fuck Up at the Same Time', 'http://hueniverse.com/2016/01/26/how-to-use-open-source-and-shut-the-fuck-up-at-the-same-time/', '39', '10', 'josep2', '1/26/2016 19:30']\n",
      " -  ['11964716', \"Florida DJs May Face Felony for April Fools' Water Joke\", 'http://www.thewire.com/entertainment/2013/04/florida-djs-april-fools-water-joke/63798/', '2', '1', 'vezycash', '6/23/2016 22:20']\n",
      " -  ['11919867', 'Technology ventures: From Idea to Enterprise', 'https://www.amazon.com/Technology-Ventures-Enterprise-Thomas-Byers/dp/0073523429', '3', '1', 'hswarna', '6/17/2016 0:01']\n",
      " -  ['10301696', 'Note by Note: The Making of Steinway L1037 (2007)', 'http://www.nytimes.com/2007/11/07/movies/07stein.html?_r=0', '8', '2', 'walterbell', '9/30/2015 4:12']\n"
     ]
    }
   ],
   "source": [
    "headers = hn[0]\n",
    "hn = hn[1:]\n",
    "\n",
    "print(headers, '\\n')\n",
    "for row in hn[:5]:\n",
    "    print(' - ', row)"
   ]
  },
  {
   "cell_type": "markdown",
   "metadata": {},
   "source": [
    "### Exctracting `Ask HN` and `Show HN` Posts"
   ]
  },
  {
   "cell_type": "code",
   "execution_count": 5,
   "metadata": {},
   "outputs": [
    {
     "name": "stdout",
     "output_type": "stream",
     "text": [
      "Number of Ask Posts is 1744\n",
      "Number of Show Posts is 1162\n",
      "Number of other posts is 17194\n"
     ]
    }
   ],
   "source": [
    "ask_posts = []\n",
    "show_posts = []\n",
    "other_posts = []\n",
    "\n",
    "for row in hn:\n",
    "    title = row[1]\n",
    "    if title.lower().startswith('ask hn'):\n",
    "        ask_posts.append(row)\n",
    "    elif title.lower().startswith('show hn'):\n",
    "        show_posts.append(row)\n",
    "    else:\n",
    "        other_posts.append(row)\n",
    "        \n",
    "print('Number of Ask Posts is', len(ask_posts))\n",
    "print('Number of Show Posts is', len(show_posts))\n",
    "print('Number of other posts is', len(other_posts))"
   ]
  },
  {
   "cell_type": "markdown",
   "metadata": {},
   "source": [
    "### The Average Number of Comments for `Ask HN` and `Show HN` Posts"
   ]
  },
  {
   "cell_type": "code",
   "execution_count": 6,
   "metadata": {},
   "outputs": [
    {
     "name": "stdout",
     "output_type": "stream",
     "text": [
      "Average comments number of `Ask HN` is 14.04\n",
      "Average comments number of `Show HN` is 10.32\n",
      "Average comments number of all posts is 24.80\n"
     ]
    }
   ],
   "source": [
    "def average_item(dataset, index):\n",
    "    total_items = 0\n",
    "\n",
    "    for row in dataset:\n",
    "        num_items = int(row[index])\n",
    "        total_items += num_items\n",
    "\n",
    "    avg_item = total_items / len(dataset)\n",
    "    return avg_item\n",
    "    \n",
    "\n",
    "avg_ask_comments = average_item(ask_posts, 4)\n",
    "avg_show_comments = average_item(show_posts, 4)\n",
    "avg_all_comments = average_item(hn, 4)\n",
    "print('Average comments number of `Ask HN` is {:.2f}'\n",
    "      .format(avg_ask_comments))\n",
    "print('Average comments number of `Show HN` is {:.2f}'\n",
    "      .format(avg_show_comments))\n",
    "print('Average comments number of all posts is {:.2f}'\n",
    "      .format(avg_all_comments))"
   ]
  },
  {
   "cell_type": "markdown",
   "metadata": {},
   "source": [
    "By calculating we can see that Posts of `Ask` and` Show` category get twice less comments than common posts. Comparing `Ask` and` Show` with each other we can suppose people like responding a showed things less than answering questions."
   ]
  },
  {
   "cell_type": "markdown",
   "metadata": {},
   "source": [
    "### Finding the Amount of Posts and Comments by Hour Created"
   ]
  },
  {
   "cell_type": "code",
   "execution_count": 7,
   "metadata": {},
   "outputs": [
    {
     "name": "stdout",
     "output_type": "stream",
     "text": [
      "We created a frequency table for amount of posts and comments by hours\n",
      "Hour: amount of posts\n",
      "{'11': 762, '19': 1145, '22': 875, '00': 697, '04': 527, '09': 609, '16': 1302, '18': 1254, '14': 1151, '10': 686, '12': 923, '13': 1102, '20': 1051, '03': 488, '17': 1362, '01': 588, '23': 778, '08': 578, '02': 529, '21': 1030, '15': 1234, '06': 468, '07': 508, '05': 453}\n",
      "\n",
      "Hour: amount of comments\n",
      "{'11': 20664, '19': 27894, '22': 18684, '00': 17478, '04': 11537, '09': 15274, '16': 30857, '18': 31587, '14': 33545, '10': 16818, '12': 25351, '13': 30562, '20': 23414, '03': 11626, '17': 34784, '01': 12465, '23': 17582, '08': 14062, '02': 13762, '21': 22652, '15': 35809, '06': 9253, '07': 12576, '05': 10290}\n"
     ]
    }
   ],
   "source": [
    "import datetime as dt\n",
    "\n",
    "result_list = []\n",
    "\n",
    "for row in hn:\n",
    "    created_at = row[6]\n",
    "    num_comments = int(row[4])\n",
    "    result_list.append([created_at, num_comments])\n",
    "    \n",
    "counts_by_hour = {}\n",
    "comments_by_hour = {}\n",
    "\n",
    "for row in result_list:\n",
    "    date_time_created = dt.datetime.strptime(row[0], \"%m/%d/%Y %H:%M\")\n",
    "    an_hour = date_time_created.strftime(\"%H\")\n",
    "    \n",
    "    if an_hour in counts_by_hour:\n",
    "        counts_by_hour[an_hour] += 1\n",
    "        comments_by_hour[an_hour] += row[1]\n",
    "    elif an_hour not in counts_by_hour:\n",
    "        counts_by_hour[an_hour] = 1\n",
    "        comments_by_hour[an_hour] = row[1]\n",
    "\n",
    "print('We created a frequency table for amount of posts and comments by hours')\n",
    "print('Hour: amount of posts')\n",
    "print(counts_by_hour)\n",
    "print('\\nHour: amount of comments')\n",
    "print(comments_by_hour)"
   ]
  },
  {
   "cell_type": "markdown",
   "metadata": {},
   "source": [
    "### Average Number of Comments for Posts by Hours"
   ]
  },
  {
   "cell_type": "code",
   "execution_count": 8,
   "metadata": {},
   "outputs": [
    {
     "name": "stdout",
     "output_type": "stream",
     "text": [
      "List of hours and average comments per post by that hour\n",
      "['11', 27.118110236220474]\n",
      "['19', 24.361572052401748]\n",
      "['22', 21.353142857142856]\n",
      "['00', 25.076040172166426]\n",
      "['04', 21.891840607210625]\n",
      "['09', 25.080459770114942]\n",
      "['16', 23.69969278033794]\n",
      "['18', 25.188995215311003]\n",
      "['14', 29.14422241529105]\n",
      "['10', 24.516034985422742]\n",
      "['12', 27.465872156013003]\n",
      "['13', 27.733212341197824]\n",
      "['20', 22.27783063748811]\n",
      "['03', 23.82377049180328]\n",
      "['17', 25.53891336270191]\n",
      "['01', 21.198979591836736]\n",
      "['23', 22.59897172236504]\n",
      "['08', 24.32871972318339]\n",
      "['02', 26.015122873345934]\n",
      "['21', 21.992233009708738]\n",
      "['15', 29.01863857374392]\n",
      "['06', 19.771367521367523]\n",
      "['07', 24.755905511811022]\n",
      "['05', 22.71523178807947]\n"
     ]
    }
   ],
   "source": [
    "avg_comments_by_hour = []\n",
    "\n",
    "for an_hour in comments_by_hour:\n",
    "    avg_by_hour = comments_by_hour[an_hour] / counts_by_hour[an_hour]\n",
    "    avg_comments_by_hour.append([an_hour, avg_by_hour])\n",
    "\n",
    "print('List of hours and average comments per post by that hour')\n",
    "for row in avg_comments_by_hour:\n",
    "    print(row)"
   ]
  },
  {
   "cell_type": "markdown",
   "metadata": {},
   "source": [
    "### Sorting and Printing Values from a List of Lists"
   ]
  },
  {
   "cell_type": "code",
   "execution_count": 9,
   "metadata": {},
   "outputs": [
    {
     "name": "stdout",
     "output_type": "stream",
     "text": [
      "Swapped position:\n",
      "[27.118110236220474, '11']\n",
      "[24.361572052401748, '19']\n",
      "[21.353142857142856, '22']\n",
      "[25.076040172166426, '00']\n",
      "[21.891840607210625, '04']\n",
      "[25.080459770114942, '09']\n",
      "[23.69969278033794, '16']\n",
      "[25.188995215311003, '18']\n",
      "[29.14422241529105, '14']\n",
      "[24.516034985422742, '10']\n",
      "[27.465872156013003, '12']\n",
      "[27.733212341197824, '13']\n",
      "[22.27783063748811, '20']\n",
      "[23.82377049180328, '03']\n",
      "[25.53891336270191, '17']\n",
      "[21.198979591836736, '01']\n",
      "[22.59897172236504, '23']\n",
      "[24.32871972318339, '08']\n",
      "[26.015122873345934, '02']\n",
      "[21.992233009708738, '21']\n",
      "[29.01863857374392, '15']\n",
      "[19.771367521367523, '06']\n",
      "[24.755905511811022, '07']\n",
      "[22.71523178807947, '05']\n"
     ]
    }
   ],
   "source": [
    "swap_avg_comments_by_hour = []\n",
    "\n",
    "for row in avg_comments_by_hour:\n",
    "    swap_avg_comments_by_hour.append([row[1],row[0]])\n",
    "\n",
    "print('Swapped position:')\n",
    "for row in swap_avg_comments_by_hour:\n",
    "    print(row)"
   ]
  },
  {
   "cell_type": "code",
   "execution_count": 10,
   "metadata": {},
   "outputs": [
    {
     "name": "stdout",
     "output_type": "stream",
     "text": [
      "Top 5 Hours for Posts\n",
      "14:00: 29.14 average comments per post\n",
      "15:00: 29.02 average comments per post\n",
      "13:00: 27.73 average comments per post\n",
      "12:00: 27.47 average comments per post\n",
      "11:00: 27.12 average comments per post\n"
     ]
    }
   ],
   "source": [
    "\n",
    "sorted_swap = sorted(swap_avg_comments_by_hour, reverse = True)\n",
    "highest_chance_comm_hour = sorted_swap[0][0]\n",
    "\n",
    "print('Top 5 Hours for Posts')\n",
    "for row in sorted_swap[:5]:\n",
    "    an_hour = row[1]\n",
    "    an_hour = dt.datetime.strptime(an_hour, \"%H\")\n",
    "    text_hour = an_hour.strftime(\"%H:%M\")\n",
    "    print('{}: {:.2f} average comments per post'.format(text_hour, row[0]))"
   ]
  },
  {
   "cell_type": "markdown",
   "metadata": {},
   "source": [
    "By now we can see that the highest chance to receive more comments hour is from 14 to 15. Let's calculate, how much different this chance relatively to a just random hour chance"
   ]
  },
  {
   "cell_type": "code",
   "execution_count": 11,
   "metadata": {},
   "outputs": [
    {
     "name": "stdout",
     "output_type": "stream",
     "text": [
      "Average comment per post for whole day is 24.80\n",
      "Average comment per post by the highest chance hour is 29.14\n",
      "How much better is it to post at a certain hour? 29.14 / 24.80 = 1.18\n"
     ]
    }
   ],
   "source": [
    "print('Average comment per post for whole day is {:.2f}'\n",
    "      .format(avg_all_comments))\n",
    "print('Average comment per post by the highest chance hour is {:.2f}'\n",
    "      .format(highest_chance_comm_hour))\n",
    "print('How much better is it to post at a certain hour? {:.2f} / {:.2f} = {:.2f}'\n",
    "      .format(highest_chance_comm_hour, avg_all_comments\n",
    "      , highest_chance_comm_hour / avg_all_comments)) \n"
   ]
  },
  {
   "cell_type": "markdown",
   "metadata": {},
   "source": [
    "> **So, it's like 18 percent more efficient and reasonable to post at a certain hour - from 14 to 15.** "
   ]
  },
  {
   "cell_type": "markdown",
   "metadata": {},
   "source": [
    "### Exploration by points (upvotes and downvotes)\n",
    "Compare `Ask` and `Show` again"
   ]
  },
  {
   "cell_type": "code",
   "execution_count": 13,
   "metadata": {},
   "outputs": [
    {
     "name": "stdout",
     "output_type": "stream",
     "text": [
      "Average points number of `Ask HN` is 15.06\n",
      "Average points number of `Show HN` is 27.56\n",
      "Average points number of all posts is 50.30\n"
     ]
    }
   ],
   "source": [
    "avg_ask_points = average_item(ask_posts, 3)\n",
    "avg_show_points = average_item(show_posts, 3)\n",
    "avg_all_points = average_item(hn, 3)\n",
    "\n",
    "print('Average points number of `Ask HN` is {:.2f}'\n",
    "      .format(avg_ask_points))\n",
    "print('Average points number of `Show HN` is {:.2f}'\n",
    "      .format(avg_show_points))\n",
    "print('Average points number of all posts is {:.2f}'\n",
    "      .format(avg_all_points))"
   ]
  },
  {
   "cell_type": "markdown",
   "metadata": {},
   "source": [
    "Despite the fact that `Ask` posts have more comments, the `Show` posts have twice more points meaning positive reaction, whilst more amount of comments can be neutral or negative. But all the same, the common group of posts still has times better response."
   ]
  },
  {
   "cell_type": "markdown",
   "metadata": {},
   "source": [
    "----------\n",
    "The same method to calculate top hours according to the points this time"
   ]
  },
  {
   "cell_type": "code",
   "execution_count": 22,
   "metadata": {},
   "outputs": [
    {
     "name": "stdout",
     "output_type": "stream",
     "text": [
      "Top 5 Hours for Posts\n",
      "13:00: 56.17 average points per post\n",
      "15:00: 55.65 average points per post\n",
      "10:00: 54.71 average points per post\n",
      "14:00: 54.44 average points per post\n",
      "19:00: 54.17 average points per post\n"
     ]
    }
   ],
   "source": [
    "result_list_2 = []\n",
    "\n",
    "for row in hn:\n",
    "    created_at = row[6]\n",
    "    num_points = int(row[3])\n",
    "    result_list_2.append([created_at, num_points])\n",
    "    \n",
    "points_by_hour = {}\n",
    "counts_by_hour = {}\n",
    "\n",
    "for row in result_list_2:\n",
    "    date_time_created = dt.datetime.strptime(row[0], \"%m/%d/%Y %H:%M\")\n",
    "    an_hour = date_time_created.strftime(\"%H\")\n",
    "    \n",
    "    if an_hour in counts_by_hour:\n",
    "        counts_by_hour[an_hour] += 1\n",
    "        points_by_hour[an_hour] += row[1]\n",
    "    elif an_hour not in counts_by_hour:\n",
    "        counts_by_hour[an_hour] = 1\n",
    "        points_by_hour[an_hour] = row[1]\n",
    "        \n",
    "avg_points_by_hour = []\n",
    "\n",
    "for an_hour in points_by_hour:\n",
    "    avg_by_hour = points_by_hour[an_hour] / counts_by_hour[an_hour]\n",
    "    avg_points_by_hour.append([an_hour, avg_by_hour])\n",
    "    \n",
    "swap_avg_points_by_hour = []\n",
    "\n",
    "for row in avg_points_by_hour:\n",
    "    swap_avg_points_by_hour.append([row[1],row[0]])\n",
    "    \n",
    "\n",
    "sorted_swap_2 = sorted(swap_avg_points_by_hour, reverse = True)\n",
    "highest_chance_points_hour = sorted_swap_2[0][0]\n",
    "\n",
    "print('Top 5 Hours for Posts')\n",
    "for row in sorted_swap_2[:5]:\n",
    "    an_hour = row[1]\n",
    "    an_hour = dt.datetime.strptime(an_hour, \"%H\")\n",
    "    text_hour = an_hour.strftime(\"%H:%M\")\n",
    "    print('{}: {:.2f} average points per post'.format(text_hour, row[0]))"
   ]
  },
  {
   "cell_type": "markdown",
   "metadata": {},
   "source": [
    "From this we can find out time from 13 to 14 is the best in terms of points the post gets."
   ]
  },
  {
   "cell_type": "code",
   "execution_count": 24,
   "metadata": {},
   "outputs": [
    {
     "name": "stdout",
     "output_type": "stream",
     "text": [
      "Average point per post for whole day is 50.30\n",
      "Average point per post by the highest chance hour is 56.17\n",
      "How much better is it to post at a certain hour? 56.17 / 50.30 = 1.12\n"
     ]
    }
   ],
   "source": [
    "print('Average point per post for whole day is {:.2f}'\n",
    "      .format(avg_all_points))\n",
    "print('Average point per post by the highest chance hour is {:.2f}'\n",
    "      .format(highest_chance_points_hour))\n",
    "print('How much better is it to post at a certain hour? {:.2f} / {:.2f} = {:.2f}'\n",
    "      .format(highest_chance_points_hour, avg_all_points\n",
    "      , highest_chance_points_hour / avg_all_points)) \n"
   ]
  },
  {
   "cell_type": "markdown",
   "metadata": {},
   "source": [
    "If we unite two ways of calculating, two term - *comments* and *points*, we finally get that perfect time to post - **from 13 to 15**.\n",
    "\n",
    "Percent of efficiency and reasonability of posting at the certain time equals (18% + 12%) / 2 = 15%"
   ]
  },
  {
   "cell_type": "markdown",
   "metadata": {},
   "source": [
    "## Conclusion\n",
    "Completing the assigned tasks we found two important results:\n",
    "* Special posts starting with words `Ask` and `Show` get *times less* feedback and attraction than usual posts\n",
    "* There exists a time when it's at 15% better, more successfully and efficiently to post stories according to average amount of comments and points it can take - from 13 to 15 o'clock."
   ]
  }
 ],
 "metadata": {
  "kernelspec": {
   "display_name": "Python 3",
   "language": "python",
   "name": "python3"
  },
  "language_info": {
   "codemirror_mode": {
    "name": "ipython",
    "version": 3
   },
   "file_extension": ".py",
   "mimetype": "text/x-python",
   "name": "python",
   "nbconvert_exporter": "python",
   "pygments_lexer": "ipython3",
   "version": "3.8.2"
  }
 },
 "nbformat": 4,
 "nbformat_minor": 2
}
